{
 "cells": [
  {
   "cell_type": "code",
   "execution_count": 1,
   "metadata": {},
   "outputs": [],
   "source": [
    "# Import the library\n",
    "import pymysql\n",
    "\n",
    "# Define the connection parameters\n",
    "host = \"database-1.cgfioyjzasue.us-east-2.rds.amazonaws.com\"\n",
    "port = 3306 # or your custom port\n",
    "user = \"admin\"\n",
    "password = \"10293847\"\n",
    "database = \"sample\"\n",
    "\n",
    "# Create a connection object\n",
    "connection = pymysql.connect(host=host, user=user, password=password, database=database, port=port)\n",
    "mycur = connection.cursor()"
   ]
  },
  {
   "cell_type": "code",
   "execution_count": 2,
   "metadata": {},
   "outputs": [
    {
     "data": {
      "text/plain": [
       "()"
      ]
     },
     "execution_count": 2,
     "metadata": {},
     "output_type": "execute_result"
    }
   ],
   "source": [
    "create_table_1 = '''\n",
    "CREATE TABLE users (\n",
    "  userid VARCHAR(255) PRIMARY KEY,\n",
    "  password VARCHAR(255)\n",
    ")'''\n",
    "\n",
    "mycur.execute(create_table_1)\n",
    "mycur.fetchall()"
   ]
  },
  {
   "cell_type": "code",
   "execution_count": 4,
   "metadata": {},
   "outputs": [
    {
     "data": {
      "text/plain": [
       "()"
      ]
     },
     "execution_count": 4,
     "metadata": {},
     "output_type": "execute_result"
    }
   ],
   "source": [
    "test_values = '''insert into users values ('testuname','testpwd')'''\n",
    "mycur.execute(test_values)\n",
    "mycur.fetchall()"
   ]
  },
  {
   "cell_type": "code",
   "execution_count": 5,
   "metadata": {},
   "outputs": [
    {
     "data": {
      "text/plain": [
       "(('testuname', 'testpwd'),)"
      ]
     },
     "execution_count": 5,
     "metadata": {},
     "output_type": "execute_result"
    }
   ],
   "source": [
    "test_values = '''select * from users'''\n",
    "mycur.execute(test_values)\n",
    "mycur.fetchall()"
   ]
  },
  {
   "cell_type": "code",
   "execution_count": 6,
   "metadata": {},
   "outputs": [
    {
     "data": {
      "text/plain": [
       "()"
      ]
     },
     "execution_count": 6,
     "metadata": {},
     "output_type": "execute_result"
    }
   ],
   "source": [
    "test_values = '''\n",
    "CREATE TABLE data (\n",
    "    userid VARCHAR(255),\n",
    "    date DATETIME,\n",
    "    weight NUMERIC,\n",
    "    calorie NUMERIC,\n",
    "    FOREIGN KEY (userid) REFERENCES users(userid)\n",
    ") '''\n",
    "\n",
    "mycur.execute(test_values)\n",
    "mycur.fetchall()\n"
   ]
  },
  {
   "cell_type": "code",
   "execution_count": 7,
   "metadata": {},
   "outputs": [
    {
     "data": {
      "text/plain": [
       "()"
      ]
     },
     "execution_count": 7,
     "metadata": {},
     "output_type": "execute_result"
    }
   ],
   "source": [
    "test_values = '''insert into data values ('testuname',now(), 105, 2000)'''\n",
    "mycur.execute(test_values)\n",
    "mycur.fetchall()"
   ]
  },
  {
   "cell_type": "code",
   "execution_count": 8,
   "metadata": {},
   "outputs": [
    {
     "data": {
      "text/plain": [
       "(('testuname',\n",
       "  datetime.datetime(2023, 4, 25, 17, 31, 15),\n",
       "  Decimal('105'),\n",
       "  Decimal('2000')),)"
      ]
     },
     "execution_count": 8,
     "metadata": {},
     "output_type": "execute_result"
    }
   ],
   "source": [
    "test_values = '''select * from data'''\n",
    "mycur.execute(test_values)\n",
    "mycur.fetchall()"
   ]
  },
  {
   "cell_type": "code",
   "execution_count": 9,
   "metadata": {},
   "outputs": [],
   "source": [
    "connection.commit()"
   ]
  },
  {
   "cell_type": "code",
   "execution_count": null,
   "metadata": {},
   "outputs": [],
   "source": []
  }
 ],
 "metadata": {
  "kernelspec": {
   "display_name": "base",
   "language": "python",
   "name": "python3"
  },
  "language_info": {
   "codemirror_mode": {
    "name": "ipython",
    "version": 3
   },
   "file_extension": ".py",
   "mimetype": "text/x-python",
   "name": "python",
   "nbconvert_exporter": "python",
   "pygments_lexer": "ipython3",
   "version": "3.7.6"
  },
  "orig_nbformat": 4
 },
 "nbformat": 4,
 "nbformat_minor": 2
}
