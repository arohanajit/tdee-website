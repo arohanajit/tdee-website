{
 "cells": [
  {
   "cell_type": "code",
   "execution_count": 36,
   "metadata": {},
   "outputs": [],
   "source": [
    "# Import the library\n",
    "import pymysql\n",
    "\n",
    "# Define the connection parameters\n",
    "host = \"sql12.freesqldatabase.com\"\n",
    "port = 3306 # or your custom port\n",
    "user = \"sql12616283\"\n",
    "password = \"peM429qpNa\"\n",
    "database = \"sql12616283\"\n",
    "\n",
    "# Create a connection object\n",
    "connection = pymysql.connect(host=host, user=user, password=password, database=database, port=port)\n",
    "mycur = connection.cursor()"
   ]
  },
  {
   "cell_type": "code",
   "execution_count": 38,
   "metadata": {},
   "outputs": [
    {
     "data": {
      "text/plain": [
       "(('name1',), ('name2',))"
      ]
     },
     "execution_count": 38,
     "metadata": {},
     "output_type": "execute_result"
    }
   ],
   "source": [
    "mycur.execute(\"SELECT userid FROM users\")\n",
    "a = mycur.fetchall()\n",
    "a"
   ]
  },
  {
   "cell_type": "code",
   "execution_count": 39,
   "metadata": {},
   "outputs": [
    {
     "data": {
      "text/plain": [
       "['name1', 'name2']"
      ]
     },
     "execution_count": 39,
     "metadata": {},
     "output_type": "execute_result"
    }
   ],
   "source": [
    "b = [i[0] for i in a]\n",
    "b"
   ]
  },
  {
   "cell_type": "code",
   "execution_count": 45,
   "metadata": {},
   "outputs": [
    {
     "name": "stdout",
     "output_type": "stream",
     "text": [
      "[Decimal('12'), Decimal('23'), Decimal('45'), Decimal('45'), Decimal('23')]\n",
      "[Decimal('23'), Decimal('45'), Decimal('34')]\n"
     ]
    }
   ],
   "source": [
    "for i in b:\n",
    "    mycur.execute(\"SELECT weight FROM data WHERE userid = %s\",(i))\n",
    "    c = mycur.fetchall()\n",
    "    c = [int(j[0]) for j in c]\n",
    "    print(c)\n",
    "    # d = [int(j[0]) for j in c]\n",
    "    # print(d)"
   ]
  },
  {
   "cell_type": "code",
   "execution_count": null,
   "metadata": {},
   "outputs": [],
   "source": []
  }
 ],
 "metadata": {
  "kernelspec": {
   "display_name": "base",
   "language": "python",
   "name": "python3"
  },
  "language_info": {
   "codemirror_mode": {
    "name": "ipython",
    "version": 3
   },
   "file_extension": ".py",
   "mimetype": "text/x-python",
   "name": "python",
   "nbconvert_exporter": "python",
   "pygments_lexer": "ipython3",
   "version": "3.7.12"
  },
  "orig_nbformat": 4
 },
 "nbformat": 4,
 "nbformat_minor": 2
}
