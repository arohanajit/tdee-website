{
 "cells": [
  {
   "cell_type": "code",
   "execution_count": 71,
   "metadata": {},
   "outputs": [],
   "source": [
    "# Import the library\n",
    "import pymysql\n",
    "\n",
    "# Define the connection parameters\n",
    "host = \"sql12.freesqldatabase.com\"\n",
    "port = 3306 # or your custom port\n",
    "user = \"sql12616283\"\n",
    "password = \"peM429qpNa\"\n",
    "database = \"sql12616283\"\n",
    "\n",
    "# Create a connection object\n",
    "connection = pymysql.connect(host=host, user=user, password=password, database=database, port=port)\n",
    "mycur = connection.cursor()"
   ]
  },
  {
   "cell_type": "code",
   "execution_count": 72,
   "metadata": {},
   "outputs": [
    {
     "data": {
      "text/plain": [
       "(('name1', Decimal('12'), 'M'), ('name2', Decimal('45'), 'F'))"
      ]
     },
     "execution_count": 72,
     "metadata": {},
     "output_type": "execute_result"
    }
   ],
   "source": [
    "mycur.execute(\"SELECT userid, height, gender FROM users\")\n",
    "a = mycur.fetchall()\n",
    "a"
   ]
  },
  {
   "cell_type": "code",
   "execution_count": 73,
   "metadata": {},
   "outputs": [
    {
     "name": "stdout",
     "output_type": "stream",
     "text": [
      "name1\n",
      "name2\n"
     ]
    }
   ],
   "source": [
    "b = [i for i in a]\n",
    "for i in b:\n",
    "    print(i[0])"
   ]
  },
  {
   "cell_type": "code",
   "execution_count": 85,
   "metadata": {},
   "outputs": [
    {
     "name": "stdout",
     "output_type": "stream",
     "text": [
      "[45, 34, 34, 34, 34, 34, 34, 34, 34] [56, 45, 45, 45, 45, 45, 45, 45, 45] 12 M\n",
      "[23, 45, 45, 45, 45] [34, 56, 56, 56, 56] 45 F\n"
     ]
    }
   ],
   "source": [
    "for i in b:\n",
    "    mycur.execute(\"SELECT weight, calorie FROM data WHERE userid=%s\",i[0])\n",
    "    c = mycur.fetchall()\n",
    "    weight = [int(j[0]) for j in c]\n",
    "    calorie = [int(j[1]) for j in c]\n",
    "    print(weight,calorie,int(i[1]),i[2])"
   ]
  },
  {
   "cell_type": "code",
   "execution_count": 79,
   "metadata": {},
   "outputs": [],
   "source": [
    "for i in range(9,1,-1):\n",
    "    date = f\"2023-08-{i}\"\n",
    "    mycur.execute(\"INSERT INTO data(userid, date, weight, calorie) VALUES ('name1',%s,34,45)\",date)\n",
    "    if i>=6:\n",
    "        mycur.execute(\"INSERT INTO data(userid, date, weight, calorie) VALUES ('name2',%s,45,56)\",date)"
   ]
  },
  {
   "cell_type": "code",
   "execution_count": 80,
   "metadata": {},
   "outputs": [
    {
     "data": {
      "text/plain": [
       "(('name1', datetime.date(2023, 5, 11), Decimal('45'), Decimal('56')),\n",
       " ('name2', datetime.date(2023, 5, 11), Decimal('23'), Decimal('34')),\n",
       " ('name1', datetime.date(2023, 8, 9), Decimal('34'), Decimal('45')),\n",
       " ('name2', datetime.date(2023, 8, 9), Decimal('45'), Decimal('56')),\n",
       " ('name1', datetime.date(2023, 8, 8), Decimal('34'), Decimal('45')),\n",
       " ('name2', datetime.date(2023, 8, 8), Decimal('45'), Decimal('56')),\n",
       " ('name1', datetime.date(2023, 8, 7), Decimal('34'), Decimal('45')),\n",
       " ('name2', datetime.date(2023, 8, 7), Decimal('45'), Decimal('56')),\n",
       " ('name1', datetime.date(2023, 8, 6), Decimal('34'), Decimal('45')),\n",
       " ('name2', datetime.date(2023, 8, 6), Decimal('45'), Decimal('56')),\n",
       " ('name1', datetime.date(2023, 8, 5), Decimal('34'), Decimal('45')),\n",
       " ('name1', datetime.date(2023, 8, 4), Decimal('34'), Decimal('45')),\n",
       " ('name1', datetime.date(2023, 8, 3), Decimal('34'), Decimal('45')),\n",
       " ('name1', datetime.date(2023, 8, 2), Decimal('34'), Decimal('45')))"
      ]
     },
     "execution_count": 80,
     "metadata": {},
     "output_type": "execute_result"
    }
   ],
   "source": [
    "mycur.execute(\"SELECT * FROM data\")\n",
    "mycur.fetchall()"
   ]
  },
  {
   "cell_type": "code",
   "execution_count": 83,
   "metadata": {},
   "outputs": [],
   "source": [
    "connection.commit()"
   ]
  },
  {
   "cell_type": "code",
   "execution_count": null,
   "metadata": {},
   "outputs": [],
   "source": []
  }
 ],
 "metadata": {
  "kernelspec": {
   "display_name": "base",
   "language": "python",
   "name": "python3"
  },
  "language_info": {
   "codemirror_mode": {
    "name": "ipython",
    "version": 3
   },
   "file_extension": ".py",
   "mimetype": "text/x-python",
   "name": "python",
   "nbconvert_exporter": "python",
   "pygments_lexer": "ipython3",
   "version": "3.7.12"
  },
  "orig_nbformat": 4
 },
 "nbformat": 4,
 "nbformat_minor": 2
}
